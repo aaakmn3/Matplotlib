{
 "cells": [
  {
   "cell_type": "markdown",
   "metadata": {},
   "source": [
    "# Matplotlib Practice"
   ]
  },
  {
   "cell_type": "code",
   "execution_count": 2,
   "metadata": {
    "collapsed": true
   },
   "outputs": [],
   "source": [
    "## Bar Chart\n",
    "# Use the following data to make your plot:\n",
    "\n",
    "from numpy import arange, array\n",
    "x = arange(1, 13)\n",
    "y = array([7, 8, 5, 5, 3, 4, 4, 6, 9, 7, 8, 8])"
   ]
  },
  {
   "cell_type": "markdown",
   "metadata": {},
   "source": [
    "1. Add a bar chart to your plot, using `x` and `y` above. Fix it so there is no outline (edgecolor), set the color of the bars to green, and set their width to 0.25.\n",
    "2. Fix your X-axis to go from 1 to 13.\n",
    "3. Fix your Y-axis to go from 0 to 10.\n",
    "4. Add a label to your X-axis that says \"month of the year\".\n",
    "5. Add a label to your Y-axis that says \"letters in month name\".\n",
    "6. Add a title to your plot, \"Leters in the Name of Each Month\".\n",
    "7. Display your plot."
   ]
  },
  {
   "cell_type": "code",
   "execution_count": 25,
   "metadata": {},
   "outputs": [],
   "source": [
    "# Solution\n",
    "import matplotlib.pyplot as plt"
   ]
  },
  {
   "cell_type": "code",
   "execution_count": 7,
   "metadata": {},
   "outputs": [
    {
     "data": {
      "image/png": "[encoded data removed]",
      "text/plain": [
       "<Figure size 432x288 with 1 Axes>"
      ]
     },
     "metadata": {
      "needs_background": "light"
     },
     "output_type": "display_data"
    }
   ],
   "source": [
    "x = ('1','2','3','4','5','6','7','8','9','10','11','12','13')\n",
    "y = (([7, 8, 5, 5, 3, 4, 4, 6, 9, 7, 8, 8, 10]))\n",
    "plt.bar(x, y)\n",
    "plt.xlabel(\"month of the year\")\n",
    "plt.ylabel(\"letters in month name\") \n",
    "plt.title(\" Leters in the Name of Each Month\")\n",
    "plt.bar(x,y, color='green',width=0.25);\n",
    "plt.show()"
   ]
  },
  {
   "cell_type": "code",
   "execution_count": null,
   "metadata": {
    "collapsed": true
   },
   "outputs": [],
   "source": [
    "## Scatter and Line Plots\n",
    "# Use the following data:\n",
    "\n",
    "from numpy import arange, cos, pi\n",
    "x = arange(0.0, 2 * pi, pi / 16.0)\n",
    "y = 2 * cos(x)"
   ]
  },
  {
   "cell_type": "markdown",
   "metadata": {},
   "source": [
    "1. Add a line plot, using `x` and `y` above. Set the width of the line to 3, set the color to green, set the style to dashed, with a label of \"approx\".\n",
    "2. Add a scatter plot, using `x` and `y` above. Set the size to 1000, set the edgecolor to none, set the color to blue, and set the label to \"discrete\".\n",
    "3. Add an X label of \"x\".\n",
    "4. Add a Y label of \"Y\".\n",
    "5. Add a title of \"2 * cos(x)\".\n",
    "6. Save your plot to a file named \"cos.png\"."
   ]
  },
  {
   "cell_type": "code",
   "execution_count": 2,
   "metadata": {},
   "outputs": [],
   "source": [
    "# Solution\n",
    "import matplotlib.pyplot as plt"
   ]
  },
  {
   "cell_type": "code",
   "execution_count": 8,
   "metadata": {},
   "outputs": [
    {
     "data": {
      "image/png": "[encoded data removed]",
      "text/plain": [
       "<Figure size 432x288 with 1 Axes>"
      ]
     },
     "metadata": {
      "needs_background": "light"
     },
     "output_type": "display_data"
    }
   ],
   "source": [
    "plt.plot(x, y, color=\"g\", linewidth=3, label = 'approx')\n",
    "plt.scatter(x,y,c = 'b',edgecolor = None, label = 'discrete' )\n",
    "plt.xlabel('x')\n",
    "plt.ylabel('y')\n",
    "plt.title('2 * cos(x)')\n",
    "plt.savefig('cos.png')"
   ]
  },
  {
   "cell_type": "code",
   "execution_count": null,
   "metadata": {
    "collapsed": true
   },
   "outputs": [],
   "source": [
    "## Multiplot, Histogram, and Errorbar\n",
    "# Use the following data:\n",
    "\n",
    "from numpy import random\n",
    "mu = 10500\n",
    "sigma = 250\n",
    "values = mu + sigma * random.randn(10000)\n",
    "x = mu + sigma * random.randn(100)\n",
    "y = mu + sigma * random.randn(100)"
   ]
  },
  {
   "cell_type": "markdown",
   "metadata": {},
   "source": [
    "1. Use `subplot` to initialize the first plot (left column) in a two-column subplot image.\n",
    "2. Create a histogram of `values` with 25 columns, set the facecolor to green, and set the edgecolor to none.\n",
    "3. Give the plot a Y-label of \"count\" of values\".\n",
    "4. Use `subplot` to intiialize the second plot (right column) in a two-column subplot image.\n",
    "5. Create a scatter plot of `x` and `y`, set the area to 300, set alpha to 0.25, set edgecolor to none, set color equal to `random.rand(100)`.\n",
    "6. Give the plot a X-label of \"x\".\n",
    "7. Give the plot a Y-label of \"y\".\n",
    "8. Set the x-limits of the plot to: 10,000 to 11,000.\n",
    "9. Set the y-limits of the plot to: 10,000 to 11,000.\n",
    "10. Add a grid to the plot.\n",
    "11. Show the plot."
   ]
  },
  {
   "cell_type": "code",
   "execution_count": null,
   "metadata": {
    "collapsed": true
   },
   "outputs": [],
   "source": [
    "# Solution\n",
    "fig = plt.figure(figsize = (25,5)) ### burayı anlamadım, sürekli hata veriyor ???\n",
    "a = fig.add_subplot(121)\n",
    "a.hist(x,y,color = 'g', edgecolor = None)\n",
    "\n",
    "b = fig.add_subplot(121)\n",
    "b.scatter(x,y,area = 300, alpha = 0.25, edgecolor = None, color = (random.rand(100)))\n",
    "plt.show()"
   ]
  }
 ],
 "metadata": {
  "anaconda-cloud": {},
  "kernelspec": {
   "display_name": "Python 3 (ipykernel)",
   "language": "python",
   "name": "python3"
  },
  "language_info": {
   "codemirror_mode": {
    "name": "ipython",
    "version": 3
   },
   "file_extension": ".py",
   "mimetype": "text/x-python",
   "name": "python",
   "nbconvert_exporter": "python",
   "pygments_lexer": "ipython3",
   "version": "3.9.12"
  }
 },
 "nbformat": 4,
 "nbformat_minor": 1
}
